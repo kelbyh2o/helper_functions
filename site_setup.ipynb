{
 "cells": [
  {
   "cell_type": "markdown",
   "metadata": {},
   "source": [
    "# Site Setup\n",
    "\n",
    "### Use\n",
    "\n",
    "This notebook is used for setting up a new \"site\" or location for analysis. Setup includes creating the folder structure, downloading environmental condition data like wave condition info and tides, and downloading satellite imagery for the site. \n",
    "\n",
    "All functions used are in the \"helper_functions\" folder. This notebook also serves as a test for file download functions. \n"
   ]
  },
  {
   "cell_type": "code",
   "execution_count": 7,
   "metadata": {},
   "outputs": [],
   "source": [
    "import sys\n",
    "import os\n",
    "import numpy as np\n",
    "from bs4 import BeautifulSoup\n",
    "from datetime import datetime\n",
    "import pandas as pd\n",
    "\n",
    "sys.path.append(r'C:\\Users\\kelby\\OneDrive\\Desktop\\MIT-WHOI\\Code')\n",
    "import helper_functions.data_tools as data_tools\n"
   ]
  },
  {
   "cell_type": "markdown",
   "metadata": {},
   "source": [
    "## Folder Structure\n",
    "\n",
    "The first step is to create the folder structure to store the site data and products"
   ]
  },
  {
   "cell_type": "code",
   "execution_count": 8,
   "metadata": {},
   "outputs": [
    {
     "name": "stdout",
     "output_type": "stream",
     "text": [
      "Folders created:\n",
      "D:\\Kelby_Kramer\\sites\\duck\n",
      "D:\\Kelby_Kramer\\sites\\duck\\site_conditions\n",
      "D:\\Kelby_Kramer\\sites\\duck\\site_conditions\\buoy_data\n",
      "D:\\Kelby_Kramer\\sites\\duck\\site_conditions\\buoy_data\\NDBC\n",
      "D:\\Kelby_Kramer\\sites\\duck\\site_conditions\\buoy_data\\CDIP\n",
      "D:\\Kelby_Kramer\\sites\\duck\\site_conditions\\buoy_data\\WIS\n",
      "D:\\Kelby_Kramer\\sites\\duck\\site_conditions\\hindcast_data\n",
      "D:\\Kelby_Kramer\\sites\\duck\\site_conditions\\hindcast_data\\WAVEWATCH_III\n",
      "D:\\Kelby_Kramer\\sites\\duck\\site_conditions\\tide_data\n",
      "D:\\Kelby_Kramer\\sites\\duck\\satellite_imagery\n",
      "D:\\Kelby_Kramer\\sites\\duck\\satellite_imagery\\visual\n",
      "D:\\Kelby_Kramer\\sites\\duck\\satellite_imagery\\visual\\planet\n",
      "D:\\Kelby_Kramer\\sites\\duck\\satellite_imagery\\visual\\S2\n",
      "D:\\Kelby_Kramer\\sites\\duck\\satellite_imagery\\visual\\landsat\n",
      "D:\\Kelby_Kramer\\sites\\duck\\satellite_imagery\\radar\n",
      "D:\\Kelby_Kramer\\sites\\duck\\satellite_imagery\\radar\\S1\n",
      "D:\\Kelby_Kramer\\sites\\duck\\ground_truth\n",
      "D:\\Kelby_Kramer\\sites\\duck\\ground_truth\\profiles\n",
      "D:\\Kelby_Kramer\\sites\\duck\\ground_truth\\sonar\n",
      "D:\\Kelby_Kramer\\sites\\duck\\products\n"
     ]
    }
   ],
   "source": [
    "# Set the folder location for the new site\n",
    "site_folder = r\"D:\\Kelby_Kramer\\sites\"\n",
    "# site_folder = r\"C:\\Users\\kelby\\OneDrive\\Desktop\\MIT-WHOI\\sites\"\n",
    "# Set the name of the new site\n",
    "# site_name = \"salinas_river\"\n",
    "# site_name = 'duck'\n",
    "site_name = 'montara'\n",
    "\n",
    "buoy_dict_path = os.path.join(site_folder, 'buoy_dict.csv')\n",
    "buoy_dict_df = pd.read_csv(buoy_dict_path)\n",
    "\n",
    "### set the buoys for each site\n",
    "if site_name == 'salinas_river':\n",
    "    buoy_dict = buoy_dict_df.loc[buoy_dict_df['site_name'] == 'salinas_river']\n",
    "    for i in range(len(buoy_dict)):\n",
    "        if buoy_dict['org'].iloc[i] == 'NDBC':\n",
    "            NDBC_buoy_id = buoy_dict['buoy_id'].iloc[i]\n",
    "            NDBC_buoy_depth = buoy_dict['water_depth'].iloc[i]\n",
    "            NDBC_buoy_lat = buoy_dict['lat'].iloc[i]\n",
    "            NDBC_buoy_lon = buoy_dict['lon'].iloc[i]\n",
    "            NDBC_buoy_dist_to_shore = buoy_dict['dist_to_shore'].iloc[i]\n",
    "        elif buoy_dict['org'].iloc[i] == 'CDIP':\n",
    "            CDIP_buoy_id = buoy_dict['buoy_id'].iloc[i]\n",
    "            CDIP_buoy_depth = buoy_dict['water_depth'].iloc[i]\n",
    "            CDIP_buoy_lat = buoy_dict['lat'].iloc[i]\n",
    "            CDIP_buoy_lon = buoy_dict['lon'].iloc[i]\n",
    "            CDIP_buoy_dist_to_shore = buoy_dict['dist_to_shore'].iloc[i]\n",
    "        elif buoy_dict['org'].iloc[i] == 'WIS':\n",
    "            WIS_buoy_id = buoy_dict['buoy_id'].iloc[i]\n",
    "            WIS_region = buoy_dict['region'].iloc[i]\n",
    "            WIS_buoy_depth = buoy_dict['water_depth'].iloc[i]\n",
    "            WIS_buoy_lat = buoy_dict['lat'].iloc[i]\n",
    "            WIS_buoy_lon = buoy_dict['lon'].iloc[i]\n",
    "            WIS_buoy_dist_to_shore = buoy_dict['dist_to_shore'].iloc[i]\n",
    "elif site_name == 'duck':\n",
    "    buoy_dict = buoy_dict_df.loc[buoy_dict_df['site_name'] == 'duck']\n",
    "    for i in range(len(buoy_dict)):\n",
    "        if buoy_dict['org'].iloc[i] == 'NDBC':\n",
    "            NDBC_buoy_id = buoy_dict['buoy_id'].iloc[i]\n",
    "            NDBC_buoy_depth = buoy_dict['water_depth'].iloc[i]\n",
    "            NDBC_buoy_lat = buoy_dict['lat'].iloc[i]\n",
    "            NDBC_buoy_lon = buoy_dict['lon'].iloc[i]\n",
    "            NDBC_buoy_dist_to_shore = buoy_dict['dist_to_shore'].iloc[i]\n",
    "        elif buoy_dict['org'].iloc[i] == 'CDIP':\n",
    "            CDIP_buoy_id = buoy_dict['buoy_id'].iloc[i]\n",
    "            CDIP_buoy_depth = buoy_dict['water_depth'].iloc[i]\n",
    "            CDIP_buoy_lat = buoy_dict['lat'].iloc[i]\n",
    "            CDIP_buoy_lon = buoy_dict['lon'].iloc[i]\n",
    "            CDIP_buoy_dist_to_shore = buoy_dict['dist_to_shore'].iloc[i]\n",
    "        elif buoy_dict['org'].iloc[i] == 'WIS':\n",
    "            WIS_buoy_id = buoy_dict['buoy_id'].iloc[i]\n",
    "            WIS_region = buoy_dict['region'].iloc[i]\n",
    "            WIS_buoy_depth = buoy_dict['water_depth'].iloc[i]\n",
    "            WIS_buoy_lat = buoy_dict['lat'].iloc[i]\n",
    "            WIS_buoy_lon = buoy_dict['lon'].iloc[i]\n",
    "            WIS_buoy_dist_to_shore = buoy_dict['dist_to_shore'].iloc[i]\n",
    "elif site_name == 'montara':\n",
    "    buoy_dict = buoy_dict_df.loc[buoy_dict_df['site_name'] == 'montara']\n",
    "    for i in range(len(buoy_dict)):\n",
    "        if buoy_dict['org'].iloc[i] == 'NDBC':\n",
    "            NDBC_buoy_id = buoy_dict['buoy_id'].iloc[i]\n",
    "            NDBC_buoy_depth = buoy_dict['water_depth'].iloc[i]\n",
    "            NDBC_buoy_lat = buoy_dict['lat'].iloc[i]\n",
    "            NDBC_buoy_lon = buoy_dict['lon'].iloc[i]\n",
    "            NDBC_buoy_dist_to_shore = buoy_dict['dist_to_shore'].iloc[i]\n",
    "        elif buoy_dict['org'].iloc[i] == 'CDIP':\n",
    "            CDIP_buoy_id = buoy_dict['buoy_id'].iloc[i]\n",
    "            CDIP_buoy_depth = buoy_dict['water_depth'].iloc[i]\n",
    "            CDIP_buoy_lat = buoy_dict['lat'].iloc[i]\n",
    "            CDIP_buoy_lon = buoy_dict['lon'].iloc[i]\n",
    "            CDIP_buoy_dist_to_shore = buoy_dict['dist_to_shore'].iloc[i]\n",
    "        elif buoy_dict['org'].iloc[i] == 'WIS':\n",
    "            WIS_buoy_id = buoy_dict['buoy_id'].iloc[i]\n",
    "            WIS_region = buoy_dict['region'].iloc[i]\n",
    "            WIS_buoy_depth = buoy_dict['water_depth'].iloc[i]\n",
    "            WIS_buoy_lat = buoy_dict['lat'].iloc[i]\n",
    "            WIS_buoy_lon = buoy_dict['lon'].iloc[i]\n",
    "            WIS_buoy_dist_to_shore = buoy_dict['dist_to_shore'].iloc[i]\n",
    "\n",
    "# Create the folder structure for the new site\n",
    "created_folders = data_tools.create_site_file_structure(site_folder, site_name)\n",
    "print(\"Folders created:\")\n",
    "for folder in created_folders:\n",
    "    print(folder)"
   ]
  },
  {
   "cell_type": "markdown",
   "metadata": {},
   "source": [
    "## Site Conditions\n",
    "Download any data related to the site conditions:\n",
    "- buoy data\n",
    "- hindcast data\n",
    "- tide data"
   ]
  },
  {
   "cell_type": "markdown",
   "metadata": {},
   "source": [
    "### Buoy Data\n",
    "\n",
    "Options: NDBC, CDIP, and WIS"
   ]
  },
  {
   "cell_type": "markdown",
   "metadata": {},
   "source": [
    "#### NDBC\n",
    "\n",
    "Find buoy near your site here: https://www.ndbc.noaa.gov/obs.shtml\n",
    "\n",
    "Full list of bouy's here: https://www.ndbc.noaa.gov/to_station.shtml\n",
    "\n",
    "Data descriptions here: https://www.ndbc.noaa.gov/faq/measdes.shtml \n"
   ]
  },
  {
   "cell_type": "code",
   "execution_count": 9,
   "metadata": {},
   "outputs": [
    {
     "name": "stdout",
     "output_type": "stream",
     "text": [
      "File 44100h2010_stdmet.txt already exists. Skipping download.\n",
      "File 44100h2011_stdmet.txt already exists. Skipping download.\n",
      "File 44100h2012_stdmet.txt already exists. Skipping download.\n",
      "File 44100h2013_stdmet.txt already exists. Skipping download.\n",
      "File 44100h2014_stdmet.txt already exists. Skipping download.\n",
      "File 44100h2015_stdmet.txt already exists. Skipping download.\n",
      "File 44100h2016_stdmet.txt already exists. Skipping download.\n",
      "File 44100h2017_stdmet.txt already exists. Skipping download.\n",
      "File 44100h2018_stdmet.txt already exists. Skipping download.\n",
      "File 44100h2019_stdmet.txt already exists. Skipping download.\n",
      "File 44100h2020_stdmet.txt already exists. Skipping download.\n",
      "File 44100h2021_stdmet.txt already exists. Skipping download.\n",
      "File 44100h2022_stdmet.txt already exists. Skipping download.\n",
      "File 44100h2023_stdmet.txt already exists. Skipping download.\n"
     ]
    }
   ],
   "source": [
    "# What data to download from NDBC\n",
    "dl_stdmet = True # Download \"Standard meteorological data\"\n",
    "dl_cwind = False # Download \"Continuous winds data\"?\n",
    "dl_swden = False # Download \"Spectral wave density data\"?\n",
    "dl_swdir = False # Download \"Spectral wave (alpha1) direction data\"?\n",
    "dl_swdir2 = False # Download \"Spectral wave (alpha2) direction data\"?\n",
    "dl_swr1 = False # Download \"Spectral wave (r1) direction data\"?\n",
    "dl_swr2 = False # Download \"Spectral wave (r2) direction data\"?\n",
    "\n",
    "TOI = [2010,2023] # Start and stop year of your time of interest TOI\n",
    "# or\n",
    "years = [] # Replace with years of interest\n",
    "\n",
    "if years == []:\n",
    "    years = np.linspace(TOI[0],TOI[1],TOI[1]-TOI[0]+1,dtype=int)\n",
    "\n",
    "data_path = r'site_conditions\\buoy_data\\NDBC' # don't change\n",
    "folder_path = os.path.join(site_folder,site_name,data_path) # don't change\n",
    "new_folder = str(NDBC_buoy_id) # don't change\n",
    "\n",
    "# download data\n",
    "data_tools.download_NDBC_data(NDBC_buoy_id, years, folder_path, new_folder, dl_stdmet, dl_cwind, dl_swden, dl_swdir, dl_swdir2, dl_swr1, dl_swr2)"
   ]
  },
  {
   "cell_type": "markdown",
   "metadata": {},
   "source": [
    "Convert the NDBC from .txt for each year to one NetCDF4 file"
   ]
  },
  {
   "cell_type": "code",
   "execution_count": 10,
   "metadata": {},
   "outputs": [
    {
     "name": "stdout",
     "output_type": "stream",
     "text": [
      "Converting data to NetCDF format and saving to D:\\Kelby_Kramer\\sites\\duck\\site_conditions\\buoy_data\\NDBC\\44100\\44100stdmet.nc\n",
      "Data saved to D:\\Kelby_Kramer\\sites\\duck\\site_conditions\\buoy_data\\NDBC\\44100\\44100stdmet.nc\n"
     ]
    }
   ],
   "source": [
    "folder_path = os.path.join(folder_path,new_folder)\n",
    "output_file = data_tools.convert_NDBC_to_netcdf(folder_path,NDBC_buoy_id,overwrite=True)"
   ]
  },
  {
   "cell_type": "markdown",
   "metadata": {},
   "source": [
    "#### CDIP\n",
    "\n",
    "Station Map: https://cdip.ucsd.edu/m/deployment/station_view/\n",
    "\n",
    "THEDDS data server description: https://cdip.ucsd.edu/m/documents/data_access.html \n",
    "\n",
    "Notes: Below links are for Duck Buoy - 430 - DUCK FRF 26M, NC\n",
    "Spectral Data Description: https://cdip.ucsd.edu/themes/cdip?d2=p70&pb=1&u2=s:430:st:1:v:product_descriptions&u3=p_desc:sp_format\n",
    "- Download Page: https://thredds.cdip.ucsd.edu/thredds/catalog/cdip/archive/430p1/catalog.html\n",
    "\n",
    "Parameter Data Description: https://cdip.ucsd.edu/themes/cdip?d2=p70&pb=1&u2=s:430:st:1:v:product_descriptions&u3=p_desc:pm_format\n",
    "- Download Page: https://cdip.ucsd.edu/themes/cdip?d2=p70&pb=1&u2=s:430:st:1:v:pm_download_table:max_frq:0.33:dt:202403\n"
   ]
  },
  {
   "cell_type": "code",
   "execution_count": 11,
   "metadata": {},
   "outputs": [
    {
     "name": "stdout",
     "output_type": "stream",
     "text": [
      "Warning: You are about to download 654.5 Mbytes of data. Uncomment the download line to proceed.\n"
     ]
    }
   ],
   "source": [
    "archive = True # True if you want to download the archive data\n",
    "realtime = False # True if you want to download the real-time data (not yeat implemented)\n",
    "\n",
    "# Note: Can only download the entire dataset, not by year. Could download by buoy deployments if you know the dates of the deployments, but not coded here.\n",
    "\n",
    "data_path = r'site_conditions\\buoy_data\\CDIP' # don't change\n",
    "folder_path = os.path.join(site_folder,site_name,data_path) # don't change\n",
    "new_folder = str(CDIP_buoy_id) # don't change\n",
    "\n",
    "# Check the file zize before downloading\n",
    "file_size = data_tools.get_file_size(CDIP_buoy_id,org='CDIP',region='None',subregion='None',target_row_index=2,target_column_index=1)\n",
    "print('Warning: You are about to download', file_size, 'of data. Uncomment the download line to proceed.')\n",
    "\n",
    "# Will take up to 1 hour to download the data depending on size and connection speed\n",
    "# output_file = data_tools.download_CDIP_data(CDIP_buoy_id, folder_path, new_folder, archive, realtime,overwrite=True)\n"
   ]
  },
  {
   "cell_type": "markdown",
   "metadata": {},
   "source": [
    "#### WIS\n",
    "About WIS: https://wis.erdc.dren.mil/wis_project_overview.html\n",
    "\n",
    "WIS Data Portal with Buoy Locations: https://wisportal.erdc.dren.mil/#\n",
    "\n",
    "Thredds Catalog: https://chldata.erdc.dren.mil/thredds/catalog/wis/catalog.html\n",
    "\n"
   ]
  },
  {
   "cell_type": "code",
   "execution_count": 12,
   "metadata": {},
   "outputs": [
    {
     "name": "stdout",
     "output_type": "stream",
     "text": [
      "Warning: You are about to download 10.42 Mbytes of data. Uncomment the download line to proceed.\n",
      "File downloaded and saved to D:\\Kelby_Kramer\\sites\\duck\\site_conditions\\buoy_data\\WIS\\ST63256\\ST63256.nc4\n"
     ]
    }
   ],
   "source": [
    "# # Identify the region of interest that the buoy is in\n",
    "# WIS_region = 'Pacific' # Region of interest (Alaska, Atlantic, GreatLakes, GulfOfMexico, Pacific)\n",
    "if WIS_region == 'Pacific':\n",
    "    WIS_subregion = None # or 'Japan'\n",
    "else:\n",
    "    WIS_subregion = None\n",
    "\n",
    "# Choose the buoy ID\n",
    "# Station number, e.g. ST63219=Duck_S, ST63218=Duck_N, ST83072=Monterey_Bay\n",
    "\n",
    "data_path = r'site_conditions\\buoy_data\\WIS' # don't change\n",
    "folder_path = os.path.join(site_folder,site_name,data_path) # don't change\n",
    "new_folder = str(WIS_buoy_id) # don't change\n",
    "\n",
    "# Check the file zize before downloading\n",
    "file_size = data_tools.get_file_size(WIS_buoy_id,org='WIS',region=WIS_region,subregion=WIS_subregion,target_row_index=2,target_column_index=1)\n",
    "print('Warning: You are about to download', file_size, 'of data. Uncomment the download line to proceed.')\n",
    "\n",
    "# Will take up to 1 hour to download the data depending on size and connection speed\n",
    "output_file = data_tools.download_WIS_data(WIS_buoy_id, folder_path, new_folder, WIS_region, WIS_subregion,overwrite=True)\n"
   ]
  },
  {
   "cell_type": "markdown",
   "metadata": {},
   "source": [
    "## Satellite Imagery\n",
    "Download desired satellite imagery:\n",
    "- Visual\n",
    "    - Planet\n",
    "    - LandSat\n",
    "    - S2\n",
    "- Radar\n",
    "    - S1"
   ]
  },
  {
   "cell_type": "code",
   "execution_count": null,
   "metadata": {},
   "outputs": [],
   "source": []
  },
  {
   "cell_type": "markdown",
   "metadata": {},
   "source": [
    "## Ground Truth\n",
    "Download available ground truth data:\n",
    "- bathymetry\n",
    "- shoreline\n",
    "- DEM"
   ]
  },
  {
   "cell_type": "code",
   "execution_count": null,
   "metadata": {},
   "outputs": [],
   "source": []
  }
 ],
 "metadata": {
  "kernelspec": {
   "display_name": "duck",
   "language": "python",
   "name": "python3"
  },
  "language_info": {
   "codemirror_mode": {
    "name": "ipython",
    "version": 3
   },
   "file_extension": ".py",
   "mimetype": "text/x-python",
   "name": "python",
   "nbconvert_exporter": "python",
   "pygments_lexer": "ipython3",
   "version": "3.9.17"
  }
 },
 "nbformat": 4,
 "nbformat_minor": 2
}
